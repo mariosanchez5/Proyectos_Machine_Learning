{
 "cells": [
  {
   "cell_type": "markdown",
   "metadata": {},
   "source": [
    "Este proyecto consiste en un trabajo desarrollado en el módulo de Machine Learning de un Diplomado que desarrollé en la Universidad Autónoma de Python and Data Science."
   ]
  },
  {
   "cell_type": "markdown",
   "metadata": {},
   "source": [
    "# Indicaciones\n",
    "\n",
    "## A. Objetivos de la tarea\n",
    "\n",
    "El objetivo de esta tarea es desarrollar y aplicar un modelo de machine learning para predecir el número de personas que no asisten a abordar los vuelos de la aerolínea AeroML, basándose en distintos parámetros como ruta, día de la semana, hora del día, entre otros.\n",
    "\n",
    "## B. Prerrequisitos para desarrollar la tarea\n",
    "\n",
    "Antes de trabajar en esta tarea deben haber comprendido los contenidos de la unidad de sobre algoritmos de aprendizaje supervisado, especialmente la temática sobre árboles de decisión.\n",
    "\n",
    "## C. Instrucciones para la elaboración de la tarea\n",
    "\n",
    "REQUISITOS GENERALES\n",
    "\n",
    "1. **Análisis exploratorio de los datos**<p>\n",
    "2. **Preparación de los datos**<p>\n",
    "3. **Extracción de atributos de la fecha**<p>\n",
    "4. **Selección de variables**<p>\n",
    "5. **Desarrollo del modelo**<p>\n",
    "6. **Reflexione sobre el modelo**<p>\n",
    "7. **Evaluación del modelo**<p>\n",
    "8. **Reflexión final**"
   ]
  },
  {
   "cell_type": "code",
   "execution_count": 395,
   "metadata": {},
   "outputs": [],
   "source": [
    "import pandas as pd\n",
    "import numpy as np\n",
    "import matplotlib.pyplot as plt\n",
    "from sklearn.model_selection import train_test_split\n",
    "from sklearn.preprocessing import StandardScaler, MinMaxScaler\n",
    "from sklearn.linear_model import LinearRegression, Ridge, Lasso\n",
    "from sklearn.tree import DecisionTreeRegressor\n",
    "from sklearn.metrics import mean_squared_error, r2_score, mean_absolute_error\n",
    "import warnings\n",
    "warnings.filterwarnings('ignore')\n",
    "\n",
    "# Cargar los datos\n",
    "data = pd.read_csv(\"datos_vuelos_AeroML.csv\", parse_dates=[\"fecha\", \"hora_salida\"])"
   ]
  },
  {
   "cell_type": "markdown",
   "metadata": {},
   "source": [
    "## TIP: Puede extraer información de las fechas de la siguiente manera:\n",
    "\n",
    "```python\n",
    "\n",
    "data['año'] = data['fecha'].dt.year"
   ]
  },
  {
   "cell_type": "markdown",
   "metadata": {},
   "source": [
    "## Descripción de Variables en el Conjunto de Datos de Vuelos\n",
    "\n",
    "### Variables Principales\n",
    "\n",
    "1. **`id`**:  \n",
    "   - Identificador único para cada registro.\n",
    "   - Útil para indexación y combinación de datos.\n",
    "  \n",
    "2. **`fecha`**:  \n",
    "   - Fecha del vuelo.\n",
    "   - Importante para el análisis temporal y la identificación de patrones estacionales o tendencias.\n",
    "  \n",
    "3. **`numero_vuelo`**:  \n",
    "   - Identificador único del vuelo.\n",
    "   - Sirve para rastrear la eficiencia y popularidad de rutas específicas.\n",
    "  \n",
    "4. **`origen` y `destino`**:  \n",
    "   - Aeropuertos de origen y destino.\n",
    "   - Pueden usarse para analizar la demanda entre diferentes ubicaciones.\n",
    "\n",
    "5. **`distancia`**:  \n",
    "   - Distancia entre el origen y el destino.\n",
    "   - Puede influir en la tarifa y el consumo de combustible.\n",
    "\n",
    "6. **`capacidad`**:  \n",
    "   - Número total de asientos en el avión.\n",
    "   - Útil para calcular la tasa de ocupación y eficiencia del vuelo.\n",
    "\n",
    "7. **`venta_usd`**:  \n",
    "   - Ingresos totales del vuelo en dólares estadounidenses.\n",
    "   - Un KPI clave para la rentabilidad.\n",
    "\n",
    "8. **`agendados`**:  \n",
    "   - Número total de reservas para el vuelo.\n",
    "   - Indica la demanda y permite calcular la tasa de ocupación.\n",
    "\n",
    "### Variables de Pasajeros\n",
    "\n",
    "9. **`inasistencia`**:  \n",
    "   - Número de pasajeros que no se presentaron.\n",
    "   - Esto puede afectar la rentabilidad y requiere estrategias de overbooking cuidadosas.\n",
    "\n",
    "10. **`vuelo_denegado`**:  \n",
    "    - Número de pasajeros que no pudieron abordar debido al exceso de reservas.\n",
    "    - Importante para evaluar la eficiencia del algoritmo de overbooking.\n",
    "\n",
    "### Variables de Tarifas\n",
    "\n",
    "11. **`tarifa_mediabaja`, `tarifa_alta`, `tarifa_mediaalta`, `tarifa_baja`**:  \n",
    "    - Distribución de los tipos de tarifas adquiridas.\n",
    "    - Esto puede ayudar a segmentar a los clientes y ajustar las estrategias de precios.\n",
    "\n",
    "12. **`pax_freqflyer`**:  \n",
    "    - Número de pasajeros que redimieron millas.\n",
    "    - Importante para medir el compromiso del cliente.\n",
    "\n",
    "13. **`agendado_grupal`**:  \n",
    "    - Número de reservas grupales.\n",
    "    - Estos suelen tener tarifas más bajas y podrían afectar la rentabilidad.\n",
    "\n",
    "### Variables de Conexión\n",
    "\n",
    "14. **`conexion_nacional`, `conexion_internacional`, `sin_conexion`**:  \n",
    "    - Indican si el vuelo es parte de una conexión nacional, internacional o si los pasajeros no están en una conexión.\n",
    "    - Esto puede afectar la logística y la planificación.\n",
    "\n",
    "### Variables Adicionales\n",
    "\n",
    "15. **`sin_stock`**:  \n",
    "    - Días sin capacidad para vender más boletos.\n",
    "    - Un indicador de alta demanda que podría usarse para ajustar tarifas o frecuencias de vuelo.\n",
    "\n",
    "16. **`year`, `month`, `day`, `day_of_week`, `hour`**:  \n",
    "    - Variables temporales que pueden ser útiles para modelar efectos estacionales o patrones diurnos.\n"
   ]
  },
  {
   "cell_type": "markdown",
   "metadata": {},
   "source": [
    "# 1. Análisis Exploratorio y Preparación de Datos\n",
    "\n",
    "Realice un análisis exploratorio y una preparación de datos que incluya:\n",
    "- La gestión de valores faltantes o nulos (si existieran).\n",
    "- La codificación de variables categóricas (si existieran).\n",
    "- La normalización o estandarización de los datos.\n",
    "\n",
    "**Comentarios:**\n",
    "- Comente si existen datos faltantes, si hay valores que no tienen sentido, si hay outliers, etc.\n",
    "- Describa las decisiones que tomó para la limpieza, imputación y/o transformación de los datos."
   ]
  },
  {
   "cell_type": "markdown",
   "metadata": {},
   "source": [
    "## Análisis exploratorio"
   ]
  },
  {
   "cell_type": "markdown",
   "metadata": {},
   "source": [
    "Vemos las primeras 3 filas de nuestra data"
   ]
  },
  {
   "cell_type": "code",
   "execution_count": 396,
   "metadata": {},
   "outputs": [
    {
     "data": {
      "text/html": [
       "<div>\n",
       "<style scoped>\n",
       "    .dataframe tbody tr th:only-of-type {\n",
       "        vertical-align: middle;\n",
       "    }\n",
       "\n",
       "    .dataframe tbody tr th {\n",
       "        vertical-align: top;\n",
       "    }\n",
       "\n",
       "    .dataframe thead th {\n",
       "        text-align: right;\n",
       "    }\n",
       "</style>\n",
       "<table border=\"1\" class=\"dataframe\">\n",
       "  <thead>\n",
       "    <tr style=\"text-align: right;\">\n",
       "      <th></th>\n",
       "      <th>id</th>\n",
       "      <th>fecha</th>\n",
       "      <th>numero_vuelo</th>\n",
       "      <th>origen</th>\n",
       "      <th>destino</th>\n",
       "      <th>distancia</th>\n",
       "      <th>inasistencia</th>\n",
       "      <th>vuelo_denegado</th>\n",
       "      <th>tarifa_mediabaja</th>\n",
       "      <th>tarifa_alta</th>\n",
       "      <th>...</th>\n",
       "      <th>pax_freqflyer</th>\n",
       "      <th>agendado_grupal</th>\n",
       "      <th>sin_stock</th>\n",
       "      <th>conexion_nacional</th>\n",
       "      <th>conexion_internacional</th>\n",
       "      <th>sin_conexion</th>\n",
       "      <th>hora_salida</th>\n",
       "      <th>capacidad</th>\n",
       "      <th>venta_usd</th>\n",
       "      <th>agendados</th>\n",
       "    </tr>\n",
       "  </thead>\n",
       "  <tbody>\n",
       "    <tr>\n",
       "      <th>0</th>\n",
       "      <td>69922</td>\n",
       "      <td>2009-02-23</td>\n",
       "      <td>8942</td>\n",
       "      <td>ANF</td>\n",
       "      <td>SCL</td>\n",
       "      <td>1106</td>\n",
       "      <td>7</td>\n",
       "      <td>0</td>\n",
       "      <td>124.0</td>\n",
       "      <td>5</td>\n",
       "      <td>...</td>\n",
       "      <td>20</td>\n",
       "      <td>0</td>\n",
       "      <td>0</td>\n",
       "      <td>0</td>\n",
       "      <td>0</td>\n",
       "      <td>259.0</td>\n",
       "      <td>2024-06-20 21:15:00</td>\n",
       "      <td>168</td>\n",
       "      <td>8399.7</td>\n",
       "      <td>259.0</td>\n",
       "    </tr>\n",
       "    <tr>\n",
       "      <th>1</th>\n",
       "      <td>469723</td>\n",
       "      <td>2010-01-13</td>\n",
       "      <td>8941</td>\n",
       "      <td>SCL</td>\n",
       "      <td>ANF</td>\n",
       "      <td>1106</td>\n",
       "      <td>18</td>\n",
       "      <td>0</td>\n",
       "      <td>56.0</td>\n",
       "      <td>0</td>\n",
       "      <td>...</td>\n",
       "      <td>4</td>\n",
       "      <td>0</td>\n",
       "      <td>0</td>\n",
       "      <td>7</td>\n",
       "      <td>6</td>\n",
       "      <td>96.0</td>\n",
       "      <td>2024-06-20 18:15:00</td>\n",
       "      <td>174</td>\n",
       "      <td>8535.7</td>\n",
       "      <td>109.0</td>\n",
       "    </tr>\n",
       "    <tr>\n",
       "      <th>2</th>\n",
       "      <td>779308</td>\n",
       "      <td>2010-10-04</td>\n",
       "      <td>9128</td>\n",
       "      <td>ANF</td>\n",
       "      <td>SCL</td>\n",
       "      <td>1106</td>\n",
       "      <td>6</td>\n",
       "      <td>0</td>\n",
       "      <td>1.0</td>\n",
       "      <td>0</td>\n",
       "      <td>...</td>\n",
       "      <td>2</td>\n",
       "      <td>0</td>\n",
       "      <td>0</td>\n",
       "      <td>0</td>\n",
       "      <td>1</td>\n",
       "      <td>78.0</td>\n",
       "      <td>2024-06-20 17:26:00</td>\n",
       "      <td>218</td>\n",
       "      <td>3525.4</td>\n",
       "      <td>79.0</td>\n",
       "    </tr>\n",
       "  </tbody>\n",
       "</table>\n",
       "<p>3 rows × 22 columns</p>\n",
       "</div>"
      ],
      "text/plain": [
       "       id      fecha  numero_vuelo origen destino  distancia  inasistencia  \\\n",
       "0   69922 2009-02-23          8942    ANF     SCL       1106             7   \n",
       "1  469723 2010-01-13          8941    SCL     ANF       1106            18   \n",
       "2  779308 2010-10-04          9128    ANF     SCL       1106             6   \n",
       "\n",
       "   vuelo_denegado  tarifa_mediabaja  tarifa_alta  ...  pax_freqflyer  \\\n",
       "0               0             124.0            5  ...             20   \n",
       "1               0              56.0            0  ...              4   \n",
       "2               0               1.0            0  ...              2   \n",
       "\n",
       "   agendado_grupal  sin_stock  conexion_nacional  conexion_internacional  \\\n",
       "0                0          0                  0                       0   \n",
       "1                0          0                  7                       6   \n",
       "2                0          0                  0                       1   \n",
       "\n",
       "   sin_conexion         hora_salida  capacidad venta_usd  agendados  \n",
       "0         259.0 2024-06-20 21:15:00        168    8399.7      259.0  \n",
       "1          96.0 2024-06-20 18:15:00        174    8535.7      109.0  \n",
       "2          78.0 2024-06-20 17:26:00        218    3525.4       79.0  \n",
       "\n",
       "[3 rows x 22 columns]"
      ]
     },
     "execution_count": 396,
     "metadata": {},
     "output_type": "execute_result"
    }
   ],
   "source": [
    "data.head(3)"
   ]
  },
  {
   "cell_type": "markdown",
   "metadata": {},
   "source": [
    "Verificamos cuantas filas y columna tiene nuestra data"
   ]
  },
  {
   "cell_type": "code",
   "execution_count": 397,
   "metadata": {},
   "outputs": [
    {
     "data": {
      "text/plain": [
       "(18322, 22)"
      ]
     },
     "execution_count": 397,
     "metadata": {},
     "output_type": "execute_result"
    }
   ],
   "source": [
    "data.shape"
   ]
  },
  {
   "cell_type": "markdown",
   "metadata": {},
   "source": [
    "Vemos las columnas de nuestra data, los datos no nulos que tiene y el tipo de datos."
   ]
  },
  {
   "cell_type": "code",
   "execution_count": 398,
   "metadata": {},
   "outputs": [
    {
     "name": "stdout",
     "output_type": "stream",
     "text": [
      "<class 'pandas.core.frame.DataFrame'>\n",
      "RangeIndex: 18322 entries, 0 to 18321\n",
      "Data columns (total 22 columns):\n",
      " #   Column                  Non-Null Count  Dtype         \n",
      "---  ------                  --------------  -----         \n",
      " 0   id                      18322 non-null  int64         \n",
      " 1   fecha                   18322 non-null  datetime64[ns]\n",
      " 2   numero_vuelo            18322 non-null  int64         \n",
      " 3   origen                  18322 non-null  object        \n",
      " 4   destino                 18322 non-null  object        \n",
      " 5   distancia               18322 non-null  int64         \n",
      " 6   inasistencia            18322 non-null  int64         \n",
      " 7   vuelo_denegado          18322 non-null  int64         \n",
      " 8   tarifa_mediabaja        17315 non-null  float64       \n",
      " 9   tarifa_alta             18322 non-null  int64         \n",
      " 10  tarifa_mediaalta        18322 non-null  int64         \n",
      " 11  tarifa_baja             18322 non-null  int64         \n",
      " 12  pax_freqflyer           18322 non-null  int64         \n",
      " 13  agendado_grupal         18322 non-null  int64         \n",
      " 14  sin_stock               18322 non-null  int64         \n",
      " 15  conexion_nacional       18322 non-null  int64         \n",
      " 16  conexion_internacional  18322 non-null  int64         \n",
      " 17  sin_conexion            18048 non-null  float64       \n",
      " 18  hora_salida             18317 non-null  datetime64[ns]\n",
      " 19  capacidad               18322 non-null  int64         \n",
      " 20  venta_usd               18322 non-null  float64       \n",
      " 21  agendados               17681 non-null  float64       \n",
      "dtypes: datetime64[ns](2), float64(4), int64(14), object(2)\n",
      "memory usage: 3.1+ MB\n"
     ]
    }
   ],
   "source": [
    "data.info()"
   ]
  },
  {
   "cell_type": "markdown",
   "metadata": {},
   "source": [
    "Vemos una pequeña estadística descriptiva de las columnas numéricas"
   ]
  },
  {
   "cell_type": "code",
   "execution_count": 399,
   "metadata": {},
   "outputs": [
    {
     "data": {
      "text/html": [
       "<div>\n",
       "<style scoped>\n",
       "    .dataframe tbody tr th:only-of-type {\n",
       "        vertical-align: middle;\n",
       "    }\n",
       "\n",
       "    .dataframe tbody tr th {\n",
       "        vertical-align: top;\n",
       "    }\n",
       "\n",
       "    .dataframe thead th {\n",
       "        text-align: right;\n",
       "    }\n",
       "</style>\n",
       "<table border=\"1\" class=\"dataframe\">\n",
       "  <thead>\n",
       "    <tr style=\"text-align: right;\">\n",
       "      <th></th>\n",
       "      <th>id</th>\n",
       "      <th>numero_vuelo</th>\n",
       "      <th>distancia</th>\n",
       "      <th>inasistencia</th>\n",
       "      <th>vuelo_denegado</th>\n",
       "      <th>tarifa_mediabaja</th>\n",
       "      <th>tarifa_alta</th>\n",
       "      <th>tarifa_mediaalta</th>\n",
       "      <th>tarifa_baja</th>\n",
       "      <th>pax_freqflyer</th>\n",
       "      <th>agendado_grupal</th>\n",
       "      <th>sin_stock</th>\n",
       "      <th>conexion_nacional</th>\n",
       "      <th>conexion_internacional</th>\n",
       "      <th>sin_conexion</th>\n",
       "      <th>capacidad</th>\n",
       "      <th>venta_usd</th>\n",
       "      <th>agendados</th>\n",
       "    </tr>\n",
       "  </thead>\n",
       "  <tbody>\n",
       "    <tr>\n",
       "      <th>count</th>\n",
       "      <td>1.832200e+04</td>\n",
       "      <td>18322.000000</td>\n",
       "      <td>18322.0</td>\n",
       "      <td>18322.000000</td>\n",
       "      <td>18322.000000</td>\n",
       "      <td>17315.000000</td>\n",
       "      <td>18322.000000</td>\n",
       "      <td>18322.000000</td>\n",
       "      <td>18322.000000</td>\n",
       "      <td>18322.000000</td>\n",
       "      <td>18322.000000</td>\n",
       "      <td>18322.000000</td>\n",
       "      <td>18322.000000</td>\n",
       "      <td>18322.000000</td>\n",
       "      <td>18048.000000</td>\n",
       "      <td>18322.000000</td>\n",
       "      <td>18322.000000</td>\n",
       "      <td>17681.000000</td>\n",
       "    </tr>\n",
       "    <tr>\n",
       "      <th>mean</th>\n",
       "      <td>6.129082e+05</td>\n",
       "      <td>8960.270276</td>\n",
       "      <td>1106.0</td>\n",
       "      <td>8.327148</td>\n",
       "      <td>0.055180</td>\n",
       "      <td>50.279873</td>\n",
       "      <td>2.717607</td>\n",
       "      <td>4.352254</td>\n",
       "      <td>83.468781</td>\n",
       "      <td>11.110523</td>\n",
       "      <td>3.858804</td>\n",
       "      <td>0.072863</td>\n",
       "      <td>10.299858</td>\n",
       "      <td>4.090929</td>\n",
       "      <td>137.524601</td>\n",
       "      <td>185.937780</td>\n",
       "      <td>10767.573158</td>\n",
       "      <td>152.004864</td>\n",
       "    </tr>\n",
       "    <tr>\n",
       "      <th>std</th>\n",
       "      <td>3.838625e+05</td>\n",
       "      <td>325.001168</td>\n",
       "      <td>0.0</td>\n",
       "      <td>5.443675</td>\n",
       "      <td>0.578305</td>\n",
       "      <td>49.124795</td>\n",
       "      <td>5.704688</td>\n",
       "      <td>9.669340</td>\n",
       "      <td>40.563930</td>\n",
       "      <td>7.556938</td>\n",
       "      <td>12.973262</td>\n",
       "      <td>0.259919</td>\n",
       "      <td>18.130702</td>\n",
       "      <td>6.044964</td>\n",
       "      <td>64.266551</td>\n",
       "      <td>21.487634</td>\n",
       "      <td>5968.978632</td>\n",
       "      <td>64.448983</td>\n",
       "    </tr>\n",
       "    <tr>\n",
       "      <th>min</th>\n",
       "      <td>1.580000e+02</td>\n",
       "      <td>7926.000000</td>\n",
       "      <td>1106.0</td>\n",
       "      <td>0.000000</td>\n",
       "      <td>0.000000</td>\n",
       "      <td>0.000000</td>\n",
       "      <td>0.000000</td>\n",
       "      <td>0.000000</td>\n",
       "      <td>0.000000</td>\n",
       "      <td>0.000000</td>\n",
       "      <td>0.000000</td>\n",
       "      <td>0.000000</td>\n",
       "      <td>0.000000</td>\n",
       "      <td>0.000000</td>\n",
       "      <td>0.000000</td>\n",
       "      <td>126.000000</td>\n",
       "      <td>193.700000</td>\n",
       "      <td>3.000000</td>\n",
       "    </tr>\n",
       "    <tr>\n",
       "      <th>25%</th>\n",
       "      <td>2.771338e+05</td>\n",
       "      <td>8933.000000</td>\n",
       "      <td>1106.0</td>\n",
       "      <td>5.000000</td>\n",
       "      <td>0.000000</td>\n",
       "      <td>2.000000</td>\n",
       "      <td>0.000000</td>\n",
       "      <td>0.000000</td>\n",
       "      <td>57.000000</td>\n",
       "      <td>6.000000</td>\n",
       "      <td>0.000000</td>\n",
       "      <td>0.000000</td>\n",
       "      <td>1.000000</td>\n",
       "      <td>1.000000</td>\n",
       "      <td>89.000000</td>\n",
       "      <td>174.000000</td>\n",
       "      <td>6517.850000</td>\n",
       "      <td>102.000000</td>\n",
       "    </tr>\n",
       "    <tr>\n",
       "      <th>50%</th>\n",
       "      <td>5.752390e+05</td>\n",
       "      <td>9126.000000</td>\n",
       "      <td>1106.0</td>\n",
       "      <td>8.000000</td>\n",
       "      <td>0.000000</td>\n",
       "      <td>36.000000</td>\n",
       "      <td>1.000000</td>\n",
       "      <td>1.000000</td>\n",
       "      <td>87.000000</td>\n",
       "      <td>10.000000</td>\n",
       "      <td>0.000000</td>\n",
       "      <td>0.000000</td>\n",
       "      <td>5.000000</td>\n",
       "      <td>2.000000</td>\n",
       "      <td>127.000000</td>\n",
       "      <td>174.000000</td>\n",
       "      <td>9595.400000</td>\n",
       "      <td>144.000000</td>\n",
       "    </tr>\n",
       "    <tr>\n",
       "      <th>75%</th>\n",
       "      <td>9.329845e+05</td>\n",
       "      <td>9138.000000</td>\n",
       "      <td>1106.0</td>\n",
       "      <td>11.000000</td>\n",
       "      <td>0.000000</td>\n",
       "      <td>97.000000</td>\n",
       "      <td>3.000000</td>\n",
       "      <td>4.000000</td>\n",
       "      <td>111.000000</td>\n",
       "      <td>15.000000</td>\n",
       "      <td>0.000000</td>\n",
       "      <td>0.000000</td>\n",
       "      <td>13.000000</td>\n",
       "      <td>5.000000</td>\n",
       "      <td>184.000000</td>\n",
       "      <td>218.000000</td>\n",
       "      <td>13753.200000</td>\n",
       "      <td>201.000000</td>\n",
       "    </tr>\n",
       "    <tr>\n",
       "      <th>max</th>\n",
       "      <td>1.350202e+06</td>\n",
       "      <td>9251.000000</td>\n",
       "      <td>1106.0</td>\n",
       "      <td>79.000000</td>\n",
       "      <td>20.000000</td>\n",
       "      <td>185.000000</td>\n",
       "      <td>109.000000</td>\n",
       "      <td>138.000000</td>\n",
       "      <td>276.000000</td>\n",
       "      <td>84.000000</td>\n",
       "      <td>158.000000</td>\n",
       "      <td>1.000000</td>\n",
       "      <td>181.000000</td>\n",
       "      <td>89.000000</td>\n",
       "      <td>366.000000</td>\n",
       "      <td>274.000000</td>\n",
       "      <td>52995.600000</td>\n",
       "      <td>384.000000</td>\n",
       "    </tr>\n",
       "  </tbody>\n",
       "</table>\n",
       "</div>"
      ],
      "text/plain": [
       "                 id  numero_vuelo  distancia  inasistencia  vuelo_denegado  \\\n",
       "count  1.832200e+04  18322.000000    18322.0  18322.000000    18322.000000   \n",
       "mean   6.129082e+05   8960.270276     1106.0      8.327148        0.055180   \n",
       "std    3.838625e+05    325.001168        0.0      5.443675        0.578305   \n",
       "min    1.580000e+02   7926.000000     1106.0      0.000000        0.000000   \n",
       "25%    2.771338e+05   8933.000000     1106.0      5.000000        0.000000   \n",
       "50%    5.752390e+05   9126.000000     1106.0      8.000000        0.000000   \n",
       "75%    9.329845e+05   9138.000000     1106.0     11.000000        0.000000   \n",
       "max    1.350202e+06   9251.000000     1106.0     79.000000       20.000000   \n",
       "\n",
       "       tarifa_mediabaja   tarifa_alta  tarifa_mediaalta   tarifa_baja  \\\n",
       "count      17315.000000  18322.000000      18322.000000  18322.000000   \n",
       "mean          50.279873      2.717607          4.352254     83.468781   \n",
       "std           49.124795      5.704688          9.669340     40.563930   \n",
       "min            0.000000      0.000000          0.000000      0.000000   \n",
       "25%            2.000000      0.000000          0.000000     57.000000   \n",
       "50%           36.000000      1.000000          1.000000     87.000000   \n",
       "75%           97.000000      3.000000          4.000000    111.000000   \n",
       "max          185.000000    109.000000        138.000000    276.000000   \n",
       "\n",
       "       pax_freqflyer  agendado_grupal     sin_stock  conexion_nacional  \\\n",
       "count   18322.000000     18322.000000  18322.000000       18322.000000   \n",
       "mean       11.110523         3.858804      0.072863          10.299858   \n",
       "std         7.556938        12.973262      0.259919          18.130702   \n",
       "min         0.000000         0.000000      0.000000           0.000000   \n",
       "25%         6.000000         0.000000      0.000000           1.000000   \n",
       "50%        10.000000         0.000000      0.000000           5.000000   \n",
       "75%        15.000000         0.000000      0.000000          13.000000   \n",
       "max        84.000000       158.000000      1.000000         181.000000   \n",
       "\n",
       "       conexion_internacional  sin_conexion     capacidad     venta_usd  \\\n",
       "count            18322.000000  18048.000000  18322.000000  18322.000000   \n",
       "mean                 4.090929    137.524601    185.937780  10767.573158   \n",
       "std                  6.044964     64.266551     21.487634   5968.978632   \n",
       "min                  0.000000      0.000000    126.000000    193.700000   \n",
       "25%                  1.000000     89.000000    174.000000   6517.850000   \n",
       "50%                  2.000000    127.000000    174.000000   9595.400000   \n",
       "75%                  5.000000    184.000000    218.000000  13753.200000   \n",
       "max                 89.000000    366.000000    274.000000  52995.600000   \n",
       "\n",
       "          agendados  \n",
       "count  17681.000000  \n",
       "mean     152.004864  \n",
       "std       64.448983  \n",
       "min        3.000000  \n",
       "25%      102.000000  \n",
       "50%      144.000000  \n",
       "75%      201.000000  \n",
       "max      384.000000  "
      ]
     },
     "execution_count": 399,
     "metadata": {},
     "output_type": "execute_result"
    }
   ],
   "source": [
    "data.describe()"
   ]
  },
  {
   "cell_type": "markdown",
   "metadata": {},
   "source": [
    "Identificamos cuantos valores únicos contiene cada columna"
   ]
  },
  {
   "cell_type": "code",
   "execution_count": 400,
   "metadata": {},
   "outputs": [
    {
     "data": {
      "text/plain": [
       "id                        18322\n",
       "fecha                      1072\n",
       "numero_vuelo                125\n",
       "origen                        2\n",
       "destino                       2\n",
       "distancia                     1\n",
       "inasistencia                 60\n",
       "vuelo_denegado               16\n",
       "tarifa_mediabaja            177\n",
       "tarifa_alta                  68\n",
       "tarifa_mediaalta             90\n",
       "tarifa_baja                 230\n",
       "pax_freqflyer                60\n",
       "agendado_grupal             125\n",
       "sin_stock                     2\n",
       "conexion_nacional           151\n",
       "conexion_internacional       74\n",
       "sin_conexion                334\n",
       "hora_salida                1164\n",
       "capacidad                    17\n",
       "venta_usd                 17450\n",
       "agendados                   329\n",
       "dtype: int64"
      ]
     },
     "execution_count": 400,
     "metadata": {},
     "output_type": "execute_result"
    }
   ],
   "source": [
    "data.nunique()"
   ]
  },
  {
   "cell_type": "markdown",
   "metadata": {},
   "source": [
    "Revisamos los Null que tiene nuestro DataFrame"
   ]
  },
  {
   "cell_type": "code",
   "execution_count": 401,
   "metadata": {},
   "outputs": [
    {
     "data": {
      "text/plain": [
       "id                           0\n",
       "fecha                        0\n",
       "numero_vuelo                 0\n",
       "origen                       0\n",
       "destino                      0\n",
       "distancia                    0\n",
       "inasistencia                 0\n",
       "vuelo_denegado               0\n",
       "tarifa_mediabaja          1007\n",
       "tarifa_alta                  0\n",
       "tarifa_mediaalta             0\n",
       "tarifa_baja                  0\n",
       "pax_freqflyer                0\n",
       "agendado_grupal              0\n",
       "sin_stock                    0\n",
       "conexion_nacional            0\n",
       "conexion_internacional       0\n",
       "sin_conexion               274\n",
       "hora_salida                  5\n",
       "capacidad                    0\n",
       "venta_usd                    0\n",
       "agendados                  641\n",
       "dtype: int64"
      ]
     },
     "execution_count": 401,
     "metadata": {},
     "output_type": "execute_result"
    }
   ],
   "source": [
    "data.isnull().sum()"
   ]
  },
  {
   "cell_type": "markdown",
   "metadata": {},
   "source": [
    "Verificamos si existen valores duplicados"
   ]
  },
  {
   "cell_type": "code",
   "execution_count": 402,
   "metadata": {},
   "outputs": [
    {
     "data": {
      "text/plain": [
       "0"
      ]
     },
     "execution_count": 402,
     "metadata": {},
     "output_type": "execute_result"
    }
   ],
   "source": [
    "data.duplicated().sum()"
   ]
  },
  {
   "cell_type": "markdown",
   "metadata": {},
   "source": [
    "## Preparación de los datos"
   ]
  },
  {
   "cell_type": "markdown",
   "metadata": {},
   "source": [
    "### Paso 1: Eliminar variables que de inicio no son necesarias como también valores duplicados si es que los hay"
   ]
  },
  {
   "cell_type": "markdown",
   "metadata": {},
   "source": [
    "La variables distancia solo tiene 1 valor que se repite en toda la columna, por lo cual no es una columna que nos aporte al modelo y será eliminada."
   ]
  },
  {
   "cell_type": "code",
   "execution_count": 403,
   "metadata": {},
   "outputs": [
    {
     "data": {
      "text/plain": [
       "1"
      ]
     },
     "execution_count": 403,
     "metadata": {},
     "output_type": "execute_result"
    }
   ],
   "source": [
    "#Verificamos nuevamente que la columna distancia solo tiene 1 solo valor\n",
    "data['distancia'].nunique()"
   ]
  },
  {
   "cell_type": "code",
   "execution_count": 404,
   "metadata": {},
   "outputs": [
    {
     "data": {
      "text/plain": [
       "1106    18322\n",
       "Name: distancia, dtype: int64"
      ]
     },
     "execution_count": 404,
     "metadata": {},
     "output_type": "execute_result"
    }
   ],
   "source": [
    "#Observamos cual es el dato que se repite\n",
    "data[\"distancia\"].value_counts()"
   ]
  },
  {
   "cell_type": "code",
   "execution_count": 405,
   "metadata": {},
   "outputs": [
    {
     "data": {
      "text/plain": [
       "(18322, 22)"
      ]
     },
     "execution_count": 405,
     "metadata": {},
     "output_type": "execute_result"
    }
   ],
   "source": [
    "#Solo para ver el cambio vemos cuantas columnas tenemos antes de eliminar \"Distancia\"\n",
    "data.shape"
   ]
  },
  {
   "cell_type": "code",
   "execution_count": 406,
   "metadata": {},
   "outputs": [],
   "source": [
    "#Eliminamos nuestra columna\n",
    "data = data.drop(columns=['distancia'])"
   ]
  },
  {
   "cell_type": "code",
   "execution_count": 407,
   "metadata": {},
   "outputs": [
    {
     "data": {
      "text/plain": [
       "(18322, 21)"
      ]
     },
     "execution_count": 407,
     "metadata": {},
     "output_type": "execute_result"
    }
   ],
   "source": [
    "#Ahora verificamos que haya una columna menos\n",
    "data.shape"
   ]
  },
  {
   "cell_type": "markdown",
   "metadata": {},
   "source": [
    "Las columnas origen y destino si las vemos en más detalle nos daremos cuenta de que solo tienen 2 origenes y 2 destinos, por lo cual podemos eliminar una de ellas ya que tener ambas es redundante"
   ]
  },
  {
   "cell_type": "code",
   "execution_count": 408,
   "metadata": {},
   "outputs": [
    {
     "data": {
      "text/plain": [
       "SCL    9184\n",
       "ANF    9138\n",
       "Name: origen, dtype: int64"
      ]
     },
     "execution_count": 408,
     "metadata": {},
     "output_type": "execute_result"
    }
   ],
   "source": [
    "data[\"origen\"].value_counts()"
   ]
  },
  {
   "cell_type": "code",
   "execution_count": 409,
   "metadata": {},
   "outputs": [
    {
     "data": {
      "text/plain": [
       "ANF    9184\n",
       "SCL    9138\n",
       "Name: destino, dtype: int64"
      ]
     },
     "execution_count": 409,
     "metadata": {},
     "output_type": "execute_result"
    }
   ],
   "source": [
    "data[\"destino\"].value_counts()"
   ]
  },
  {
   "cell_type": "code",
   "execution_count": 410,
   "metadata": {},
   "outputs": [],
   "source": [
    "data = data.drop(columns=['destino'])"
   ]
  },
  {
   "cell_type": "code",
   "execution_count": 411,
   "metadata": {},
   "outputs": [
    {
     "data": {
      "text/plain": [
       "(18322, 20)"
      ]
     },
     "execution_count": 411,
     "metadata": {},
     "output_type": "execute_result"
    }
   ],
   "source": [
    "data.shape"
   ]
  },
  {
   "cell_type": "markdown",
   "metadata": {},
   "source": [
    "La columna id, no nos aporta información ya que existe un id único por cada valor"
   ]
  },
  {
   "cell_type": "code",
   "execution_count": 412,
   "metadata": {},
   "outputs": [
    {
     "data": {
      "text/plain": [
       "(18322, 19)"
      ]
     },
     "execution_count": 412,
     "metadata": {},
     "output_type": "execute_result"
    }
   ],
   "source": [
    "data = data.drop(columns=['id'])\n",
    "data.shape"
   ]
  },
  {
   "cell_type": "markdown",
   "metadata": {},
   "source": [
    "La columna , no nos aporta mucha información ya que el dato esta muy atomizado"
   ]
  },
  {
   "cell_type": "code",
   "execution_count": 413,
   "metadata": {},
   "outputs": [
    {
     "data": {
      "text/plain": [
       "(18322, 18)"
      ]
     },
     "execution_count": 413,
     "metadata": {},
     "output_type": "execute_result"
    }
   ],
   "source": [
    "data = data.drop(columns=['venta_usd'])\n",
    "data.shape"
   ]
  },
  {
   "cell_type": "markdown",
   "metadata": {},
   "source": [
    "Por ahora eliminaremos solo estas columnas, pero podemos volver a este paso posteriormente."
   ]
  },
  {
   "cell_type": "markdown",
   "metadata": {},
   "source": [
    "### Paso 2: Tratamiento de valores Nulos"
   ]
  },
  {
   "cell_type": "markdown",
   "metadata": {},
   "source": [
    "Primero trataremos los valores nulos de sin_conexion ya que con esta variable podemos obtener algunas de las demás. Primero veremos como se distribuyen los datos de esta variable."
   ]
  },
  {
   "cell_type": "code",
   "execution_count": 414,
   "metadata": {},
   "outputs": [
    {
     "data": {
      "text/plain": [
       "<AxesSubplot:ylabel='Frequency'>"
      ]
     },
     "execution_count": 414,
     "metadata": {},
     "output_type": "execute_result"
    },
    {
     "data": {
      "image/png": "[encoded data removed]",
      "text/plain": [
       "<Figure size 432x288 with 1 Axes>"
      ]
     },
     "metadata": {
      "needs_background": "light"
     },
     "output_type": "display_data"
    }
   ],
   "source": [
    "data[\"sin_conexion\"].plot(kind=\"hist\", bins=100)"
   ]
  },
  {
   "cell_type": "markdown",
   "metadata": {},
   "source": [
    "Aunque no es una distribución normal, es bastante similar por lo cual reemplazaremos los datos nulos con la mediana."
   ]
  },
  {
   "cell_type": "code",
   "execution_count": 415,
   "metadata": {},
   "outputs": [
    {
     "data": {
      "text/plain": [
       "fecha                        0\n",
       "numero_vuelo                 0\n",
       "origen                       0\n",
       "inasistencia                 0\n",
       "vuelo_denegado               0\n",
       "tarifa_mediabaja          1007\n",
       "tarifa_alta                  0\n",
       "tarifa_mediaalta             0\n",
       "tarifa_baja                  0\n",
       "pax_freqflyer                0\n",
       "agendado_grupal              0\n",
       "sin_stock                    0\n",
       "conexion_nacional            0\n",
       "conexion_internacional       0\n",
       "sin_conexion                 0\n",
       "hora_salida                  5\n",
       "capacidad                    0\n",
       "agendados                  641\n",
       "dtype: int64"
      ]
     },
     "execution_count": 415,
     "metadata": {},
     "output_type": "execute_result"
    }
   ],
   "source": [
    "data['sin_conexion'] = data['sin_conexion'].fillna(data['sin_conexion'].median())\n",
    "data.isnull().sum()"
   ]
  },
  {
   "cell_type": "markdown",
   "metadata": {},
   "source": [
    "Si nos damos cuenta la variable de \n",
    "agendados = conexion_internacional + conexion_nacional + sin_conexion\n",
    "\n",
    "Por lo cual, de esta forma podemos rellenar los valores null"
   ]
  },
  {
   "cell_type": "code",
   "execution_count": 416,
   "metadata": {},
   "outputs": [
    {
     "data": {
      "text/plain": [
       "fecha                        0\n",
       "numero_vuelo                 0\n",
       "origen                       0\n",
       "inasistencia                 0\n",
       "vuelo_denegado               0\n",
       "tarifa_mediabaja          1007\n",
       "tarifa_alta                  0\n",
       "tarifa_mediaalta             0\n",
       "tarifa_baja                  0\n",
       "pax_freqflyer                0\n",
       "agendado_grupal              0\n",
       "sin_stock                    0\n",
       "conexion_nacional            0\n",
       "conexion_internacional       0\n",
       "sin_conexion                 0\n",
       "hora_salida                  5\n",
       "capacidad                    0\n",
       "agendados                    0\n",
       "dtype: int64"
      ]
     },
     "execution_count": 416,
     "metadata": {},
     "output_type": "execute_result"
    }
   ],
   "source": [
    "data['agendados']=data[\"conexion_internacional\"] + data[\"conexion_nacional\"] + data[\"sin_conexion\"]\n",
    "data.isnull().sum()"
   ]
  },
  {
   "cell_type": "markdown",
   "metadata": {},
   "source": [
    "Si nos damos cuenta la variable de \n",
    "agendados = tarifa_mediabaja + tarifa_alta + tarifa_mediaalta + tarifa_baja + pax_freqflyer\n",
    "\n",
    "Por lo cual, si a agendados le restamos las demás columnas podemos recuperar algunos valores nulos de tarifa_mediabaja"
   ]
  },
  {
   "cell_type": "code",
   "execution_count": 417,
   "metadata": {},
   "outputs": [
    {
     "data": {
      "text/plain": [
       "fecha                     0\n",
       "numero_vuelo              0\n",
       "origen                    0\n",
       "inasistencia              0\n",
       "vuelo_denegado            0\n",
       "tarifa_mediabaja          0\n",
       "tarifa_alta               0\n",
       "tarifa_mediaalta          0\n",
       "tarifa_baja               0\n",
       "pax_freqflyer             0\n",
       "agendado_grupal           0\n",
       "sin_stock                 0\n",
       "conexion_nacional         0\n",
       "conexion_internacional    0\n",
       "sin_conexion              0\n",
       "hora_salida               5\n",
       "capacidad                 0\n",
       "agendados                 0\n",
       "dtype: int64"
      ]
     },
     "execution_count": 417,
     "metadata": {},
     "output_type": "execute_result"
    }
   ],
   "source": [
    "data['tarifa_mediabaja'] = data['agendados'] - data['tarifa_alta']-data['tarifa_mediaalta']-data['tarifa_baja']-data['pax_freqflyer']\n",
    "data.isnull().sum()"
   ]
  },
  {
   "cell_type": "markdown",
   "metadata": {},
   "source": [
    "Por último solo nos queda la columna hora_salida, pero al ser tan bajo el número de valores nulos comparado con la cantidad de datos que tenemos, simplemente eliminaremos estos datos null."
   ]
  },
  {
   "cell_type": "code",
   "execution_count": 418,
   "metadata": {},
   "outputs": [
    {
     "data": {
      "text/plain": [
       "(18317, 18)"
      ]
     },
     "execution_count": 418,
     "metadata": {},
     "output_type": "execute_result"
    }
   ],
   "source": [
    "data = data.dropna(subset=['hora_salida'])\n",
    "data.shape"
   ]
  },
  {
   "cell_type": "markdown",
   "metadata": {},
   "source": [
    "De esta manera tendríamos nuestra data limpia de valores nulos, como lo podemos comprobar a continuación."
   ]
  },
  {
   "cell_type": "code",
   "execution_count": 419,
   "metadata": {},
   "outputs": [
    {
     "data": {
      "text/plain": [
       "fecha                     0\n",
       "numero_vuelo              0\n",
       "origen                    0\n",
       "inasistencia              0\n",
       "vuelo_denegado            0\n",
       "tarifa_mediabaja          0\n",
       "tarifa_alta               0\n",
       "tarifa_mediaalta          0\n",
       "tarifa_baja               0\n",
       "pax_freqflyer             0\n",
       "agendado_grupal           0\n",
       "sin_stock                 0\n",
       "conexion_nacional         0\n",
       "conexion_internacional    0\n",
       "sin_conexion              0\n",
       "hora_salida               0\n",
       "capacidad                 0\n",
       "agendados                 0\n",
       "dtype: int64"
      ]
     },
     "execution_count": 419,
     "metadata": {},
     "output_type": "execute_result"
    }
   ],
   "source": [
    "data.isnull().sum()"
   ]
  },
  {
   "cell_type": "markdown",
   "metadata": {},
   "source": [
    "Por último eliminaremos al columna agendados, ya que esta información está de igual manera contenida por la suma de las demás variables."
   ]
  },
  {
   "cell_type": "code",
   "execution_count": 420,
   "metadata": {},
   "outputs": [
    {
     "data": {
      "text/plain": [
       "(18317, 17)"
      ]
     },
     "execution_count": 420,
     "metadata": {},
     "output_type": "execute_result"
    }
   ],
   "source": [
    "data = data.drop(columns=['agendados'])\n",
    "data.shape"
   ]
  },
  {
   "cell_type": "markdown",
   "metadata": {},
   "source": [
    "### Paso 3: Tratamiendo de Outliers"
   ]
  },
  {
   "cell_type": "markdown",
   "metadata": {},
   "source": [
    "Veremos en primer lugar que no hayan valores fuera de lo normal, como valores muy grandes o valores negativos que no corresponden a ningúna variable en nuestro dataset. De manera rápida lo podemos volver a revisar con un análisis descriptivo."
   ]
  },
  {
   "cell_type": "code",
   "execution_count": 421,
   "metadata": {},
   "outputs": [
    {
     "data": {
      "text/html": [
       "<div>\n",
       "<style scoped>\n",
       "    .dataframe tbody tr th:only-of-type {\n",
       "        vertical-align: middle;\n",
       "    }\n",
       "\n",
       "    .dataframe tbody tr th {\n",
       "        vertical-align: top;\n",
       "    }\n",
       "\n",
       "    .dataframe thead th {\n",
       "        text-align: right;\n",
       "    }\n",
       "</style>\n",
       "<table border=\"1\" class=\"dataframe\">\n",
       "  <thead>\n",
       "    <tr style=\"text-align: right;\">\n",
       "      <th></th>\n",
       "      <th>numero_vuelo</th>\n",
       "      <th>inasistencia</th>\n",
       "      <th>vuelo_denegado</th>\n",
       "      <th>tarifa_mediabaja</th>\n",
       "      <th>tarifa_alta</th>\n",
       "      <th>tarifa_mediaalta</th>\n",
       "      <th>tarifa_baja</th>\n",
       "      <th>pax_freqflyer</th>\n",
       "      <th>agendado_grupal</th>\n",
       "      <th>sin_stock</th>\n",
       "      <th>conexion_nacional</th>\n",
       "      <th>conexion_internacional</th>\n",
       "      <th>sin_conexion</th>\n",
       "      <th>capacidad</th>\n",
       "    </tr>\n",
       "  </thead>\n",
       "  <tbody>\n",
       "    <tr>\n",
       "      <th>count</th>\n",
       "      <td>18317.000000</td>\n",
       "      <td>18317.000000</td>\n",
       "      <td>18317.000000</td>\n",
       "      <td>18317.000000</td>\n",
       "      <td>18317.000000</td>\n",
       "      <td>18317.000000</td>\n",
       "      <td>18317.000000</td>\n",
       "      <td>18317.000000</td>\n",
       "      <td>18317.000000</td>\n",
       "      <td>18317.000000</td>\n",
       "      <td>18317.000000</td>\n",
       "      <td>18317.000000</td>\n",
       "      <td>18317.000000</td>\n",
       "      <td>18317.000000</td>\n",
       "    </tr>\n",
       "    <tr>\n",
       "      <th>mean</th>\n",
       "      <td>8960.542938</td>\n",
       "      <td>8.328875</td>\n",
       "      <td>0.055195</td>\n",
       "      <td>50.105749</td>\n",
       "      <td>2.716657</td>\n",
       "      <td>4.349948</td>\n",
       "      <td>83.477589</td>\n",
       "      <td>11.111536</td>\n",
       "      <td>3.859857</td>\n",
       "      <td>0.072883</td>\n",
       "      <td>10.300704</td>\n",
       "      <td>4.091718</td>\n",
       "      <td>137.369056</td>\n",
       "      <td>185.935907</td>\n",
       "    </tr>\n",
       "    <tr>\n",
       "      <th>std</th>\n",
       "      <td>324.626162</td>\n",
       "      <td>5.443253</td>\n",
       "      <td>0.578383</td>\n",
       "      <td>49.038492</td>\n",
       "      <td>5.703460</td>\n",
       "      <td>9.664120</td>\n",
       "      <td>40.552322</td>\n",
       "      <td>7.556994</td>\n",
       "      <td>12.974876</td>\n",
       "      <td>0.259952</td>\n",
       "      <td>18.132661</td>\n",
       "      <td>6.045588</td>\n",
       "      <td>63.773749</td>\n",
       "      <td>21.486900</td>\n",
       "    </tr>\n",
       "    <tr>\n",
       "      <th>min</th>\n",
       "      <td>7926.000000</td>\n",
       "      <td>0.000000</td>\n",
       "      <td>0.000000</td>\n",
       "      <td>-64.000000</td>\n",
       "      <td>0.000000</td>\n",
       "      <td>0.000000</td>\n",
       "      <td>0.000000</td>\n",
       "      <td>0.000000</td>\n",
       "      <td>0.000000</td>\n",
       "      <td>0.000000</td>\n",
       "      <td>0.000000</td>\n",
       "      <td>0.000000</td>\n",
       "      <td>0.000000</td>\n",
       "      <td>126.000000</td>\n",
       "    </tr>\n",
       "    <tr>\n",
       "      <th>25%</th>\n",
       "      <td>8933.000000</td>\n",
       "      <td>5.000000</td>\n",
       "      <td>0.000000</td>\n",
       "      <td>2.000000</td>\n",
       "      <td>0.000000</td>\n",
       "      <td>0.000000</td>\n",
       "      <td>57.000000</td>\n",
       "      <td>6.000000</td>\n",
       "      <td>0.000000</td>\n",
       "      <td>0.000000</td>\n",
       "      <td>1.000000</td>\n",
       "      <td>1.000000</td>\n",
       "      <td>89.000000</td>\n",
       "      <td>174.000000</td>\n",
       "    </tr>\n",
       "    <tr>\n",
       "      <th>50%</th>\n",
       "      <td>9126.000000</td>\n",
       "      <td>8.000000</td>\n",
       "      <td>0.000000</td>\n",
       "      <td>36.000000</td>\n",
       "      <td>1.000000</td>\n",
       "      <td>1.000000</td>\n",
       "      <td>87.000000</td>\n",
       "      <td>10.000000</td>\n",
       "      <td>0.000000</td>\n",
       "      <td>0.000000</td>\n",
       "      <td>5.000000</td>\n",
       "      <td>2.000000</td>\n",
       "      <td>127.000000</td>\n",
       "      <td>174.000000</td>\n",
       "    </tr>\n",
       "    <tr>\n",
       "      <th>75%</th>\n",
       "      <td>9138.000000</td>\n",
       "      <td>11.000000</td>\n",
       "      <td>0.000000</td>\n",
       "      <td>96.000000</td>\n",
       "      <td>3.000000</td>\n",
       "      <td>4.000000</td>\n",
       "      <td>111.000000</td>\n",
       "      <td>15.000000</td>\n",
       "      <td>0.000000</td>\n",
       "      <td>0.000000</td>\n",
       "      <td>13.000000</td>\n",
       "      <td>5.000000</td>\n",
       "      <td>183.000000</td>\n",
       "      <td>218.000000</td>\n",
       "    </tr>\n",
       "    <tr>\n",
       "      <th>max</th>\n",
       "      <td>9251.000000</td>\n",
       "      <td>79.000000</td>\n",
       "      <td>20.000000</td>\n",
       "      <td>185.000000</td>\n",
       "      <td>109.000000</td>\n",
       "      <td>138.000000</td>\n",
       "      <td>276.000000</td>\n",
       "      <td>84.000000</td>\n",
       "      <td>158.000000</td>\n",
       "      <td>1.000000</td>\n",
       "      <td>181.000000</td>\n",
       "      <td>89.000000</td>\n",
       "      <td>366.000000</td>\n",
       "      <td>274.000000</td>\n",
       "    </tr>\n",
       "  </tbody>\n",
       "</table>\n",
       "</div>"
      ],
      "text/plain": [
       "       numero_vuelo  inasistencia  vuelo_denegado  tarifa_mediabaja  \\\n",
       "count  18317.000000  18317.000000    18317.000000      18317.000000   \n",
       "mean    8960.542938      8.328875        0.055195         50.105749   \n",
       "std      324.626162      5.443253        0.578383         49.038492   \n",
       "min     7926.000000      0.000000        0.000000        -64.000000   \n",
       "25%     8933.000000      5.000000        0.000000          2.000000   \n",
       "50%     9126.000000      8.000000        0.000000         36.000000   \n",
       "75%     9138.000000     11.000000        0.000000         96.000000   \n",
       "max     9251.000000     79.000000       20.000000        185.000000   \n",
       "\n",
       "        tarifa_alta  tarifa_mediaalta   tarifa_baja  pax_freqflyer  \\\n",
       "count  18317.000000      18317.000000  18317.000000   18317.000000   \n",
       "mean       2.716657          4.349948     83.477589      11.111536   \n",
       "std        5.703460          9.664120     40.552322       7.556994   \n",
       "min        0.000000          0.000000      0.000000       0.000000   \n",
       "25%        0.000000          0.000000     57.000000       6.000000   \n",
       "50%        1.000000          1.000000     87.000000      10.000000   \n",
       "75%        3.000000          4.000000    111.000000      15.000000   \n",
       "max      109.000000        138.000000    276.000000      84.000000   \n",
       "\n",
       "       agendado_grupal     sin_stock  conexion_nacional  \\\n",
       "count     18317.000000  18317.000000       18317.000000   \n",
       "mean          3.859857      0.072883          10.300704   \n",
       "std          12.974876      0.259952          18.132661   \n",
       "min           0.000000      0.000000           0.000000   \n",
       "25%           0.000000      0.000000           1.000000   \n",
       "50%           0.000000      0.000000           5.000000   \n",
       "75%           0.000000      0.000000          13.000000   \n",
       "max         158.000000      1.000000         181.000000   \n",
       "\n",
       "       conexion_internacional  sin_conexion     capacidad  \n",
       "count            18317.000000  18317.000000  18317.000000  \n",
       "mean                 4.091718    137.369056    185.935907  \n",
       "std                  6.045588     63.773749     21.486900  \n",
       "min                  0.000000      0.000000    126.000000  \n",
       "25%                  1.000000     89.000000    174.000000  \n",
       "50%                  2.000000    127.000000    174.000000  \n",
       "75%                  5.000000    183.000000    218.000000  \n",
       "max                 89.000000    366.000000    274.000000  "
      ]
     },
     "execution_count": 421,
     "metadata": {},
     "output_type": "execute_result"
    }
   ],
   "source": [
    "data.describe()"
   ]
  },
  {
   "cell_type": "markdown",
   "metadata": {},
   "source": [
    "Podemos ver que en tarifa_mediabaja nos encontramos con valores negativos, esto no debería ser así, pero  puede haber sucedido al reemplazar sin_conexion con la media, las sumas posteriores no calzaran especificamente. Por lo cual eliminaremos estos valores negativos."
   ]
  },
  {
   "cell_type": "code",
   "execution_count": 422,
   "metadata": {},
   "outputs": [
    {
     "data": {
      "text/plain": [
       "<AxesSubplot:ylabel='Frequency'>"
      ]
     },
     "execution_count": 422,
     "metadata": {},
     "output_type": "execute_result"
    },
    {
     "data": {
      "image/png": "[encoded data removed]",
      "text/plain": [
       "<Figure size 432x288 with 1 Axes>"
      ]
     },
     "metadata": {
      "needs_background": "light"
     },
     "output_type": "display_data"
    }
   ],
   "source": [
    "data[\"tarifa_mediabaja\"].plot(kind=\"hist\", bins=100)"
   ]
  },
  {
   "cell_type": "code",
   "execution_count": 423,
   "metadata": {},
   "outputs": [
    {
     "data": {
      "text/plain": [
       "46"
      ]
     },
     "execution_count": 423,
     "metadata": {},
     "output_type": "execute_result"
    }
   ],
   "source": [
    "valores_negativos = data['tarifa_mediabaja'] < 0\n",
    "valores_negativos.sum()"
   ]
  },
  {
   "cell_type": "code",
   "execution_count": 424,
   "metadata": {},
   "outputs": [
    {
     "data": {
      "text/plain": [
       "(18271, 17)"
      ]
     },
     "execution_count": 424,
     "metadata": {},
     "output_type": "execute_result"
    }
   ],
   "source": [
    "data= data[~valores_negativos]\n",
    "data.shape"
   ]
  },
  {
   "cell_type": "code",
   "execution_count": 425,
   "metadata": {},
   "outputs": [
    {
     "data": {
      "text/plain": [
       "<AxesSubplot:ylabel='Frequency'>"
      ]
     },
     "execution_count": 425,
     "metadata": {},
     "output_type": "execute_result"
    },
    {
     "data": {
      "image/png": "[encoded data removed]",
      "text/plain": [
       "<Figure size 432x288 with 1 Axes>"
      ]
     },
     "metadata": {
      "needs_background": "light"
     },
     "output_type": "display_data"
    }
   ],
   "source": [
    "data[\"tarifa_mediabaja\"].plot(kind=\"hist\", bins=100)"
   ]
  },
  {
   "cell_type": "code",
   "execution_count": 426,
   "metadata": {},
   "outputs": [
    {
     "data": {
      "image/png": "[encoded data removed]",
      "text/plain": [
       "<Figure size 1080x720 with 6 Axes>"
      ]
     },
     "metadata": {
      "needs_background": "light"
     },
     "output_type": "display_data"
    }
   ],
   "source": [
    "# Crear subplots para los diagramas de caja\n",
    "fig, axs = plt.subplots(2, 3, figsize=(15, 10))\n",
    "\n",
    "# Diagrama de caja para tarifa_mediabaja\n",
    "axs[0, 0].boxplot(data[\"tarifa_mediabaja\"])\n",
    "axs[0, 0].set_title('tarifa_mediabaja')\n",
    "axs[0, 0].set_ylabel('Value')  # Nombre del eje y\n",
    "\n",
    "# Diagrama de caja para tarifa_alta \n",
    "axs[0, 1].boxplot(data[\"tarifa_alta\"])\n",
    "axs[0, 1].set_title('tarifa_alta')\n",
    "\n",
    "# Diagrama de caja para tarifa_mediaalta \n",
    "axs[0, 2].boxplot(data[\"tarifa_mediaalta\"])\n",
    "axs[0, 2].set_title('tarifa_mediaalta')\n",
    "\n",
    "# Diagrama de caja para tarifa_mediabaja\n",
    "axs[1, 0].boxplot(data[\"tarifa_baja\"])\n",
    "axs[1, 0].set_title('tarifa_baja')\n",
    "axs[1, 0].set_ylabel('Value')  # Nombre del eje y\n",
    "\n",
    "# Diagrama de caja para pax_freqflyer \n",
    "axs[1, 1].boxplot(data[\"pax_freqflyer\"])\n",
    "axs[1, 1].set_title('pax_freqflyer')\n",
    "\n",
    "# Diagrama de caja para inasistencia\n",
    "axs[1, 2].boxplot(data[\"inasistencia\"])\n",
    "axs[1, 2].set_title('inasistencia')\n",
    "\n",
    "# Ajustar el diseño del gráfico\n",
    "plt.tight_layout()\n",
    "plt.show()"
   ]
  },
  {
   "cell_type": "code",
   "execution_count": 427,
   "metadata": {},
   "outputs": [
    {
     "data": {
      "text/plain": [
       "0     8450\n",
       "1     2954\n",
       "2     1746\n",
       "3     1148\n",
       "4      792\n",
       "      ... \n",
       "61       1\n",
       "56       1\n",
       "60       1\n",
       "73       1\n",
       "65       1\n",
       "Name: tarifa_alta, Length: 68, dtype: int64"
      ]
     },
     "execution_count": 427,
     "metadata": {},
     "output_type": "execute_result"
    }
   ],
   "source": [
    "data['tarifa_alta'].value_counts()"
   ]
  },
  {
   "cell_type": "code",
   "execution_count": 428,
   "metadata": {},
   "outputs": [
    {
     "data": {
      "image/png": "[encoded data removed]",
      "text/plain": [
       "<Figure size 1080x720 with 6 Axes>"
      ]
     },
     "metadata": {
      "needs_background": "light"
     },
     "output_type": "display_data"
    }
   ],
   "source": [
    "# Crear subplots para los diagramas de caja\n",
    "fig, axs = plt.subplots(2, 3, figsize=(15, 10))\n",
    "\n",
    "# Diagrama de caja para tarifa_mediabaja\n",
    "axs[0, 0].boxplot(data[\"agendado_grupal\"])\n",
    "axs[0, 0].set_title('agendado_grupal')\n",
    "axs[0, 0].set_ylabel('Value')  # Nombre del eje y\n",
    "\n",
    "# Diagrama de caja para tarifa_alta \n",
    "axs[0, 1].boxplot(data[\"sin_stock\"])\n",
    "axs[0, 1].set_title('sin_stock')\n",
    "\n",
    "# Diagrama de caja para tarifa_mediaalta \n",
    "axs[0, 2].boxplot(data[\"conexion_nacional\"])\n",
    "axs[0, 2].set_title('conexion_nacional')\n",
    "\n",
    "# Diagrama de caja para tarifa_mediabaja\n",
    "axs[1, 0].boxplot(data[\"conexion_internacional\"])\n",
    "axs[1, 0].set_title('conexion_internacional')\n",
    "axs[1, 0].set_ylabel('Value')  # Nombre del eje y\n",
    "\n",
    "# Diagrama de caja para pax_freqflyer \n",
    "axs[1, 1].boxplot(data[\"sin_conexion\"])\n",
    "axs[1, 1].set_title('sin_conexion')\n",
    "\n",
    "# Diagrama de caja para inasistencia\n",
    "axs[1, 2].boxplot(data[\"capacidad\"])\n",
    "axs[1, 2].set_title('capacidad')\n",
    "\n",
    "# Ajustar el diseño del gráfico\n",
    "plt.tight_layout()\n",
    "plt.show()"
   ]
  },
  {
   "cell_type": "code",
   "execution_count": 429,
   "metadata": {},
   "outputs": [
    {
     "data": {
      "text/plain": [
       "0    16940\n",
       "1     1331\n",
       "Name: sin_stock, dtype: int64"
      ]
     },
     "execution_count": 429,
     "metadata": {},
     "output_type": "execute_result"
    }
   ],
   "source": [
    "data['sin_stock'].value_counts()"
   ]
  },
  {
   "cell_type": "code",
   "execution_count": 430,
   "metadata": {},
   "outputs": [
    {
     "data": {
      "image/png": "[encoded data removed]",
      "text/plain": [
       "<Figure size 1080x720 with 6 Axes>"
      ]
     },
     "metadata": {
      "needs_background": "light"
     },
     "output_type": "display_data"
    }
   ],
   "source": [
    "# Crear subplots para los diagramas de caja\n",
    "fig, axs = plt.subplots(2, 3, figsize=(15, 10))\n",
    "\n",
    "# Diagrama de caja para tarifa_mediabaja\n",
    "axs[0, 0].boxplot(data[\"numero_vuelo\"])\n",
    "axs[0, 0].set_title('numero_vuelo')\n",
    "axs[0, 0].set_ylabel('Value')  # Nombre del eje y\n",
    "\n",
    "# Diagrama de caja para tarifa_mediaalta \n",
    "axs[0, 2].boxplot(data[\"vuelo_denegado\"])\n",
    "axs[0, 2].set_title('vuelo_denegado')\n",
    "\n",
    "\n",
    "# Ajustar el diseño del gráfico\n",
    "plt.tight_layout()\n",
    "plt.show()"
   ]
  },
  {
   "cell_type": "markdown",
   "metadata": {},
   "source": [
    "### Paso 4: Convertir variables categóricas a variables Dummies (Antes extraer fecha)"
   ]
  },
  {
   "cell_type": "markdown",
   "metadata": {},
   "source": [
    "Extraemos los atributos de la fecha"
   ]
  },
  {
   "cell_type": "code",
   "execution_count": 431,
   "metadata": {},
   "outputs": [],
   "source": [
    "data['fecha'] = pd.to_datetime(data['fecha'])\n",
    "data[\"week_day\"] = data[\"fecha\"].dt.dayofweek\n",
    "data[\"mes\"] = data[\"fecha\"].dt.month\n",
    "data[\"hora\"] = data[\"hora_salida\"].dt.hour\n",
    "\n",
    "data.drop(columns=[\"fecha\", \"hora_salida\"], inplace=True)"
   ]
  },
  {
   "cell_type": "code",
   "execution_count": 432,
   "metadata": {},
   "outputs": [
    {
     "name": "stdout",
     "output_type": "stream",
     "text": [
      "<class 'pandas.core.frame.DataFrame'>\n",
      "Int64Index: 18271 entries, 0 to 18321\n",
      "Data columns (total 18 columns):\n",
      " #   Column                  Non-Null Count  Dtype  \n",
      "---  ------                  --------------  -----  \n",
      " 0   numero_vuelo            18271 non-null  int64  \n",
      " 1   origen                  18271 non-null  object \n",
      " 2   inasistencia            18271 non-null  int64  \n",
      " 3   vuelo_denegado          18271 non-null  int64  \n",
      " 4   tarifa_mediabaja        18271 non-null  float64\n",
      " 5   tarifa_alta             18271 non-null  int64  \n",
      " 6   tarifa_mediaalta        18271 non-null  int64  \n",
      " 7   tarifa_baja             18271 non-null  int64  \n",
      " 8   pax_freqflyer           18271 non-null  int64  \n",
      " 9   agendado_grupal         18271 non-null  int64  \n",
      " 10  sin_stock               18271 non-null  int64  \n",
      " 11  conexion_nacional       18271 non-null  int64  \n",
      " 12  conexion_internacional  18271 non-null  int64  \n",
      " 13  sin_conexion            18271 non-null  float64\n",
      " 14  capacidad               18271 non-null  int64  \n",
      " 15  week_day                18271 non-null  int64  \n",
      " 16  mes                     18271 non-null  int64  \n",
      " 17  hora                    18271 non-null  int64  \n",
      "dtypes: float64(2), int64(15), object(1)\n",
      "memory usage: 2.6+ MB\n"
     ]
    }
   ],
   "source": [
    "data.info()"
   ]
  },
  {
   "cell_type": "markdown",
   "metadata": {},
   "source": [
    "Ahora pasaremos a Generar One Hot Encoding o Convertir a variables dummies las variables categóricas"
   ]
  },
  {
   "cell_type": "code",
   "execution_count": 433,
   "metadata": {},
   "outputs": [
    {
     "name": "stdout",
     "output_type": "stream",
     "text": [
      "<class 'pandas.core.frame.DataFrame'>\n",
      "Int64Index: 18271 entries, 0 to 18321\n",
      "Data columns (total 58 columns):\n",
      " #   Column                  Non-Null Count  Dtype  \n",
      "---  ------                  --------------  -----  \n",
      " 0   numero_vuelo            18271 non-null  int64  \n",
      " 1   origen                  18271 non-null  object \n",
      " 2   inasistencia            18271 non-null  int64  \n",
      " 3   vuelo_denegado          18271 non-null  int64  \n",
      " 4   tarifa_mediabaja        18271 non-null  float64\n",
      " 5   tarifa_alta             18271 non-null  int64  \n",
      " 6   tarifa_mediaalta        18271 non-null  int64  \n",
      " 7   tarifa_baja             18271 non-null  int64  \n",
      " 8   pax_freqflyer           18271 non-null  int64  \n",
      " 9   agendado_grupal         18271 non-null  int64  \n",
      " 10  sin_stock               18271 non-null  int64  \n",
      " 11  conexion_nacional       18271 non-null  int64  \n",
      " 12  conexion_internacional  18271 non-null  int64  \n",
      " 13  sin_conexion            18271 non-null  float64\n",
      " 14  capacidad               18271 non-null  int64  \n",
      " 15  week_day_0              18271 non-null  uint8  \n",
      " 16  week_day_1              18271 non-null  uint8  \n",
      " 17  week_day_2              18271 non-null  uint8  \n",
      " 18  week_day_3              18271 non-null  uint8  \n",
      " 19  week_day_4              18271 non-null  uint8  \n",
      " 20  week_day_5              18271 non-null  uint8  \n",
      " 21  week_day_6              18271 non-null  uint8  \n",
      " 22  mes_1                   18271 non-null  uint8  \n",
      " 23  mes_2                   18271 non-null  uint8  \n",
      " 24  mes_3                   18271 non-null  uint8  \n",
      " 25  mes_4                   18271 non-null  uint8  \n",
      " 26  mes_5                   18271 non-null  uint8  \n",
      " 27  mes_6                   18271 non-null  uint8  \n",
      " 28  mes_7                   18271 non-null  uint8  \n",
      " 29  mes_8                   18271 non-null  uint8  \n",
      " 30  mes_9                   18271 non-null  uint8  \n",
      " 31  mes_10                  18271 non-null  uint8  \n",
      " 32  mes_11                  18271 non-null  uint8  \n",
      " 33  mes_12                  18271 non-null  uint8  \n",
      " 34  hora_0                  18271 non-null  uint8  \n",
      " 35  hora_1                  18271 non-null  uint8  \n",
      " 36  hora_2                  18271 non-null  uint8  \n",
      " 37  hora_3                  18271 non-null  uint8  \n",
      " 38  hora_4                  18271 non-null  uint8  \n",
      " 39  hora_5                  18271 non-null  uint8  \n",
      " 40  hora_6                  18271 non-null  uint8  \n",
      " 41  hora_7                  18271 non-null  uint8  \n",
      " 42  hora_8                  18271 non-null  uint8  \n",
      " 43  hora_9                  18271 non-null  uint8  \n",
      " 44  hora_10                 18271 non-null  uint8  \n",
      " 45  hora_11                 18271 non-null  uint8  \n",
      " 46  hora_12                 18271 non-null  uint8  \n",
      " 47  hora_13                 18271 non-null  uint8  \n",
      " 48  hora_14                 18271 non-null  uint8  \n",
      " 49  hora_15                 18271 non-null  uint8  \n",
      " 50  hora_16                 18271 non-null  uint8  \n",
      " 51  hora_17                 18271 non-null  uint8  \n",
      " 52  hora_18                 18271 non-null  uint8  \n",
      " 53  hora_19                 18271 non-null  uint8  \n",
      " 54  hora_20                 18271 non-null  uint8  \n",
      " 55  hora_21                 18271 non-null  uint8  \n",
      " 56  hora_22                 18271 non-null  uint8  \n",
      " 57  hora_23                 18271 non-null  uint8  \n",
      "dtypes: float64(2), int64(12), object(1), uint8(43)\n",
      "memory usage: 3.0+ MB\n"
     ]
    }
   ],
   "source": [
    "data = pd.get_dummies(data, columns=[\"week_day\", \"mes\", \"hora\"])\n",
    "data.info()"
   ]
  },
  {
   "cell_type": "markdown",
   "metadata": {},
   "source": [
    "Ahora lo haremos con la variable origen, pero como nos dará dos columnas, podemos eliminar una de ellas ya que es información que ya está contenida en la otra."
   ]
  },
  {
   "cell_type": "code",
   "execution_count": 434,
   "metadata": {},
   "outputs": [
    {
     "name": "stdout",
     "output_type": "stream",
     "text": [
      "<class 'pandas.core.frame.DataFrame'>\n",
      "Int64Index: 18271 entries, 0 to 18321\n",
      "Data columns (total 58 columns):\n",
      " #   Column                  Non-Null Count  Dtype  \n",
      "---  ------                  --------------  -----  \n",
      " 0   numero_vuelo            18271 non-null  int64  \n",
      " 1   inasistencia            18271 non-null  int64  \n",
      " 2   vuelo_denegado          18271 non-null  int64  \n",
      " 3   tarifa_mediabaja        18271 non-null  float64\n",
      " 4   tarifa_alta             18271 non-null  int64  \n",
      " 5   tarifa_mediaalta        18271 non-null  int64  \n",
      " 6   tarifa_baja             18271 non-null  int64  \n",
      " 7   pax_freqflyer           18271 non-null  int64  \n",
      " 8   agendado_grupal         18271 non-null  int64  \n",
      " 9   sin_stock               18271 non-null  int64  \n",
      " 10  conexion_nacional       18271 non-null  int64  \n",
      " 11  conexion_internacional  18271 non-null  int64  \n",
      " 12  sin_conexion            18271 non-null  float64\n",
      " 13  capacidad               18271 non-null  int64  \n",
      " 14  week_day_0              18271 non-null  uint8  \n",
      " 15  week_day_1              18271 non-null  uint8  \n",
      " 16  week_day_2              18271 non-null  uint8  \n",
      " 17  week_day_3              18271 non-null  uint8  \n",
      " 18  week_day_4              18271 non-null  uint8  \n",
      " 19  week_day_5              18271 non-null  uint8  \n",
      " 20  week_day_6              18271 non-null  uint8  \n",
      " 21  mes_1                   18271 non-null  uint8  \n",
      " 22  mes_2                   18271 non-null  uint8  \n",
      " 23  mes_3                   18271 non-null  uint8  \n",
      " 24  mes_4                   18271 non-null  uint8  \n",
      " 25  mes_5                   18271 non-null  uint8  \n",
      " 26  mes_6                   18271 non-null  uint8  \n",
      " 27  mes_7                   18271 non-null  uint8  \n",
      " 28  mes_8                   18271 non-null  uint8  \n",
      " 29  mes_9                   18271 non-null  uint8  \n",
      " 30  mes_10                  18271 non-null  uint8  \n",
      " 31  mes_11                  18271 non-null  uint8  \n",
      " 32  mes_12                  18271 non-null  uint8  \n",
      " 33  hora_0                  18271 non-null  uint8  \n",
      " 34  hora_1                  18271 non-null  uint8  \n",
      " 35  hora_2                  18271 non-null  uint8  \n",
      " 36  hora_3                  18271 non-null  uint8  \n",
      " 37  hora_4                  18271 non-null  uint8  \n",
      " 38  hora_5                  18271 non-null  uint8  \n",
      " 39  hora_6                  18271 non-null  uint8  \n",
      " 40  hora_7                  18271 non-null  uint8  \n",
      " 41  hora_8                  18271 non-null  uint8  \n",
      " 42  hora_9                  18271 non-null  uint8  \n",
      " 43  hora_10                 18271 non-null  uint8  \n",
      " 44  hora_11                 18271 non-null  uint8  \n",
      " 45  hora_12                 18271 non-null  uint8  \n",
      " 46  hora_13                 18271 non-null  uint8  \n",
      " 47  hora_14                 18271 non-null  uint8  \n",
      " 48  hora_15                 18271 non-null  uint8  \n",
      " 49  hora_16                 18271 non-null  uint8  \n",
      " 50  hora_17                 18271 non-null  uint8  \n",
      " 51  hora_18                 18271 non-null  uint8  \n",
      " 52  hora_19                 18271 non-null  uint8  \n",
      " 53  hora_20                 18271 non-null  uint8  \n",
      " 54  hora_21                 18271 non-null  uint8  \n",
      " 55  hora_22                 18271 non-null  uint8  \n",
      " 56  hora_23                 18271 non-null  uint8  \n",
      " 57  origen_SCL              18271 non-null  uint8  \n",
      "dtypes: float64(2), int64(12), uint8(44)\n",
      "memory usage: 2.9 MB\n"
     ]
    }
   ],
   "source": [
    "data = pd.get_dummies(data, columns=[\"origen\"])\n",
    "data.drop(columns=[\"origen_ANF\"], inplace=True)\n",
    "data.info()"
   ]
  },
  {
   "cell_type": "markdown",
   "metadata": {},
   "source": [
    "### Paso 5: Normalización de datos numéricos "
   ]
  },
  {
   "cell_type": "markdown",
   "metadata": {},
   "source": [
    "Por último de forma sencilla normalizaremos todas las variables numéricas (es decir de 0 a 1) de nuestro data"
   ]
  },
  {
   "cell_type": "code",
   "execution_count": 435,
   "metadata": {},
   "outputs": [
    {
     "data": {
      "text/plain": [
       "\"\\n# Seleccionar las columnas numéricas\\nnumeric_cols = data.select_dtypes(include=['int64', 'float64']).columns\\n\\n# Normalización de los datos numéricos\\nscaler = MinMaxScaler()\\ndata[numeric_cols] = scaler.fit_transform(data[numeric_cols])\\n\\ndata.describe()\\n\""
      ]
     },
     "execution_count": 435,
     "metadata": {},
     "output_type": "execute_result"
    }
   ],
   "source": [
    "# Seleccionar las columnas numéricas\n",
    "numeric_cols = data.select_dtypes(include=['int64', 'float64']).columns\n",
    "\n",
    "# Normalización de los datos numéricos\n",
    "scaler = MinMaxScaler()\n",
    "data[numeric_cols] = scaler.fit_transform(data[numeric_cols])\n",
    "\n",
    "data.describe()"
   ]
  },
  {
   "cell_type": "markdown",
   "metadata": {},
   "source": [
    "# 2. Selección de Variables\n",
    "\n",
    "Elija las variables más relevantes para predecir la inasistencia. Explique las razones para dejar algunas características fuera.\n",
    "\n",
    "**Comentarios:**\n",
    "- Describa las variables que eligió y por qué."
   ]
  },
  {
   "cell_type": "code",
   "execution_count": 436,
   "metadata": {},
   "outputs": [],
   "source": [
    "# Seleccionar las características y la variable objetivo\n",
    "X = data.drop(columns=['inasistencia'])\n",
    "y = data['inasistencia']"
   ]
  },
  {
   "cell_type": "markdown",
   "metadata": {},
   "source": [
    "# 3. Desarrollo y Evaluación del Modelo\n",
    "\n",
    "Desarrolle uno o más modelos de regresión y evalúe el desempeño de los modelos mediante el error absoluto medio (MAE). Interprete correctamente los resultados y su impacto en la precisión del modelo.\n",
    "\n",
    "**Comentarios:**\n",
    "- Describa el modelo que eligió y por qué.\n",
    "- Comente sobre los resultados obtenidos del MAE y su interpretación.\n",
    "- Elija otra métrica de evaluación, interprete los resultados y compare con el MAE."
   ]
  },
  {
   "cell_type": "code",
   "execution_count": 444,
   "metadata": {},
   "outputs": [
    {
     "name": "stdout",
     "output_type": "stream",
     "text": [
      "Linear Regression R2: 0.10750962842024459\n",
      "Linear Regression MAE: 3.762162238698053\n"
     ]
    }
   ],
   "source": [
    "# Primero deberíamos seleccionar las características y la variable objetivo\n",
    "# Pero ya fueron seleccionadas en el paso anterior\n",
    "\n",
    "# Dividir el conjunto de datos\n",
    "X_train, X_test, y_train, y_test = train_test_split(X, y, test_size=0.2, random_state=42)\n",
    "\n",
    "# Entrenar el modelo de regresión lineal\n",
    "linear_model = LinearRegression()\n",
    "linear_model.fit(X_train, y_train)\n",
    "\n",
    "# Realizar predicciones\n",
    "y_pred = linear_model.predict(X_test)\n",
    "\n",
    "# Calcular métricas\n",
    "linear_r2 = r2_score(y_test, y_pred)\n",
    "linear_mae = mean_absolute_error(y_test, y_pred)\n",
    "linear_mse = mean_squared_error(y_test, y_pred)\n",
    "\n",
    "print(f'Linear Regression R2: {linear_r2}')\n",
    "print(f'Linear Regression MAE: {linear_mae}')"
   ]
  },
  {
   "cell_type": "code",
   "execution_count": 445,
   "metadata": {},
   "outputs": [
    {
     "name": "stdout",
     "output_type": "stream",
     "text": [
      "Decision Tree R2: -0.40876323441578144\n",
      "Decision Tree MAE: 4.602796004034545\n"
     ]
    }
   ],
   "source": [
    "from sklearn.tree import export_graphviz\n",
    "from IPython.display import Image\n",
    "from six import StringIO\n",
    "import pydotplus\n",
    "\n",
    "def display_tree(dt):\n",
    "    dot_data = StringIO()\n",
    "    export_graphviz(dt, out_file=dot_data,\n",
    "                    filled=True, rounded=True,\n",
    "                    special_characters=True)\n",
    "    graph = pydotplus.graph_from_dot_data(dot_data.getvalue())\n",
    "    return Image(graph.create_png())\n",
    "\n",
    "\n",
    "# Primero deberíamos seleccionar las características y la variable objetivo\n",
    "# Pero ya fueron seleccionadas en el paso anterior\n",
    "\n",
    "X_train, X_test, y_train, y_test = train_test_split(X, y, test_size=0.2, random_state=21)\n",
    "\n",
    "tree = DecisionTreeRegressor(random_state=21, max_depth=20)\n",
    "tree.fit(X_train, y_train)\n",
    "\n",
    "y_pred = tree.predict(X_test)\n",
    "\n",
    "\n",
    "tree_r2 = r2_score(y_test, y_pred)\n",
    "tree_mae = mean_absolute_error(y_test, y_pred)\n",
    "\n",
    "print(f'Decision Tree R2: {tree_r2}')\n",
    "print(f'Decision Tree MAE: {tree_mae}')"
   ]
  },
  {
   "cell_type": "code",
   "execution_count": 446,
   "metadata": {},
   "outputs": [
    {
     "name": "stdout",
     "output_type": "stream",
     "text": [
      "Random Forest R2: 0.17214368549093106\n",
      "Random Forest MAE: 3.6545554035567718\n"
     ]
    }
   ],
   "source": [
    "from sklearn.model_selection import train_test_split\n",
    "from sklearn.preprocessing import MinMaxScaler\n",
    "from sklearn.ensemble import RandomForestRegressor\n",
    "\n",
    "\n",
    "# Primero deberíamos seleccionar las características y la variable objetivo\n",
    "# Pero ya fueron seleccionadas en el paso anterior\n",
    "\n",
    "\n",
    "# Dividir el conjunto de datos\n",
    "X_train, X_test, y_train, y_test = train_test_split(X, y, test_size=0.2, random_state=42)\n",
    "\n",
    "# Escalar los datos\n",
    "scaler = MinMaxScaler()\n",
    "X_train_scaled = scaler.fit_transform(X_train)\n",
    "X_test_scaled = scaler.transform(X_test)\n",
    "\n",
    "# Entrenar el modelo de Random Forest\n",
    "rf_model = RandomForestRegressor(random_state=42)\n",
    "rf_model.fit(X_train_scaled, y_train)\n",
    "\n",
    "# Realizar predicciones\n",
    "y_pred = rf_model.predict(X_test_scaled)\n",
    "\n",
    "# Calcular métricas\n",
    "rf_r2 = r2_score(y_test, y_pred)\n",
    "rf_mae = mean_absolute_error(y_test, y_pred)\n",
    "\n",
    "print(f'Random Forest R2: {rf_r2}')\n",
    "print(f'Random Forest MAE: {rf_mae}')"
   ]
  },
  {
   "cell_type": "markdown",
   "metadata": {},
   "source": [
    "# 4. Reflexión Final\n",
    "\n",
    "Reflexione sobre el proceso de desarrollo del modelo, las dificultades encontradas, las decisiones tomadas y la importancia de la evaluación y selección de modelos en la creación de modelos de aprendizaje automático precisos y confiables.\n",
    "\n",
    "**Comentarios:**\n",
    "- Reflexione sobre las decisiones tomadas durante el desarrollo del modelo.\n",
    "- Comente las dificultades encontradas y cómo las abordó.\n",
    "- Discuta la importancia de la evaluación y selección de modelos."
   ]
  },
  {
   "cell_type": "code",
   "execution_count": 438,
   "metadata": {},
   "outputs": [],
   "source": [
    "# SU CODIGO AQUI"
   ]
  }
 ],
 "metadata": {
  "kernelspec": {
   "display_name": "MLenv",
   "language": "python",
   "name": "python3"
  },
  "language_info": {
   "codemirror_mode": {
    "name": "ipython",
    "version": 3
   },
   "file_extension": ".py",
   "mimetype": "text/x-python",
   "name": "python",
   "nbconvert_exporter": "python",
   "pygments_lexer": "ipython3",
   "version": "3.9.1"
  },
  "orig_nbformat": 4
 },
 "nbformat": 4,
 "nbformat_minor": 2
}
